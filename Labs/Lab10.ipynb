{
 "cells": [
  {
   "cell_type": "code",
   "execution_count": 1,
   "id": "39fe401a",
   "metadata": {},
   "outputs": [],
   "source": [
    "%matplotlib inline\n",
    "import numpy as np\n",
    "import matplotlib.pyplot as plt"
   ]
  },
  {
   "cell_type": "code",
   "execution_count": 4,
   "id": "45518d59",
   "metadata": {},
   "outputs": [
    {
     "name": "stdout",
     "output_type": "stream",
     "text": [
      "[10.          8.          6.4         5.12        4.096       3.2768\n",
      "  2.62144     2.097152    1.6777216   1.34217728  1.07374182]\n"
     ]
    }
   ],
   "source": [
    "x = np.array([10 * (0.8) ** i for i in range(11)])\n",
    "print(x)"
   ]
  },
  {
   "cell_type": "code",
   "execution_count": 18,
   "id": "94975fd1",
   "metadata": {},
   "outputs": [
    {
     "data": {
      "text/plain": [
       "array([ 0.        , 10.        ,  8.        ,  6.4       ,  5.12      ,\n",
       "        4.096     ,  3.2768    ,  2.62144   ,  2.097152  ,  1.6777216 ,\n",
       "        1.34217728,  1.07374182,  0.        ,  0.        ,  0.        ])"
      ]
     },
     "execution_count": 18,
     "metadata": {},
     "output_type": "execute_result"
    }
   ],
   "source": [
    "N = 15\n",
    "d = 1\n",
    "xs = np.concatenate((x, np.array([0] * (N - len(x)))))\n",
    "n = (np.array(range(N)) - d) % N\n",
    "y = xs[n]\n",
    "y"
   ]
  },
  {
   "cell_type": "code",
   "execution_count": 34,
   "id": "795facce",
   "metadata": {},
   "outputs": [
    {
     "data": {
      "image/png": "[encoded data removed]",
      "text/plain": [
       "<Figure size 1000x500 with 1 Axes>"
      ]
     },
     "metadata": {},
     "output_type": "display_data"
    }
   ],
   "source": [
    "plt.figure(figsize=(10, 5))\n",
    "plt.vlines(range(N), ymin=np.zeros(len(y)), ymax=y)\n",
    "plt.show()"
   ]
  },
  {
   "cell_type": "code",
   "execution_count": 43,
   "id": "3a6e3648",
   "metadata": {},
   "outputs": [
    {
     "data": {
      "text/plain": [
       "[9, 4, 9, 14, 14]"
      ]
     },
     "execution_count": 43,
     "metadata": {},
     "output_type": "execute_result"
    }
   ],
   "source": [
    "def circular_conv(x1, x2, N):\n",
    "    if len(x1) > N or len(x2) > N:\n",
    "        raise ValueError()\n",
    "    x1 = np.concatenate((x1, [0] * (N - len(x1))))\n",
    "    x2 = np.concatenate((x2, [0] * (N - len(x2))))\n",
    "    y = []\n",
    "    for i in range(N):\n",
    "        m = (i - np.array(range(N))) % N\n",
    "        y.append(np.sum(x1 * x2[m]))\n",
    "    return y\n",
    "\n",
    "x1 = [1, 2, 2]\n",
    "x2 = [1, 2, 3, 4]\n",
    "N = 5\n",
    "circular_conv(x1, x2, N)"
   ]
  },
  {
   "cell_type": "code",
   "execution_count": null,
   "id": "46c892e1",
   "metadata": {},
   "outputs": [],
   "source": []
  }
 ],
 "metadata": {
  "kernelspec": {
   "display_name": "Python 3 (ipykernel)",
   "language": "python",
   "name": "python3"
  },
  "language_info": {
   "codemirror_mode": {
    "name": "ipython",
    "version": 3
   },
   "file_extension": ".py",
   "mimetype": "text/x-python",
   "name": "python",
   "nbconvert_exporter": "python",
   "pygments_lexer": "ipython3",
   "version": "3.8.10"
  }
 },
 "nbformat": 4,
 "nbformat_minor": 5
}
